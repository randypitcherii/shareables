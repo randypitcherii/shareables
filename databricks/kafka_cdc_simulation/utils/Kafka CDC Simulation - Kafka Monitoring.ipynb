{
 "cells": [
  {
   "cell_type": "code",
   "execution_count": 0,
   "metadata": {
    "application/vnd.databricks.v1+cell": {
     "cellMetadata": {
      "byteLimit": 2048000,
      "implicitDf": true,
      "rowLimit": 10000
     },
     "inputWidgets": {},
     "nuid": "81002caf-9d35-4eac-86a7-7b29fb2e75a3",
     "showTitle": true,
     "tableResultSettingsMap": {},
     "title": "Monitor 🖥️"
    }
   },
   "outputs": [],
   "source": [
    "%%sql\n",
    "SELECT\n",
    "    count(*) as num_records,\n",
    "    date_trunc(:time_unit, timestamp) as time_bucket,\n",
    "\n",
    "    CASE\n",
    "        WHEN :time_unit = 'second' THEN :target_rate::double\n",
    "        WHEN :time_unit = 'minute' THEN :target_rate::double * 60\n",
    "        WHEN :time_unit = 'hour' THEN :target_rate::double * 3600\n",
    "        WHEN :time_unit = 'day' THEN :target_rate::double * 86400\n",
    "        ELSE :target_rate::double\n",
    "    END as target_rate\n",
    "\n",
    "FROM read_kafka(\n",
    "        `kafka.bootstrap.servers` => secret(:secret_scope, 'KAFKA_BROKERS'),\n",
    "        `kafka.security.protocol` => 'SASL_SSL',\n",
    "        `kafka.sasl.mechanism` => 'SCRAM-SHA-512',\n",
    "        `kafka.sasl.jaas.config` => CONCAT(\n",
    "        'kafkashaded.org.apache.kafka.common.security.scram.ScramLoginModule required username=\"',\n",
    "        secret(:secret_scope, 'KAFKA_USERNAME'),\n",
    "        '\" password=\"',\n",
    "        secret(:secret_scope, 'KAFKA_PASSWORD'),\n",
    "        '\";'\n",
    "        ),\n",
    "        `subscribe` => :topic_name\n",
    ")\n",
    "\n",
    "where \n",
    "    timestamp >= :starting_from_time\n",
    "\n",
    "group by all"
   ]
  }
 ],
 "metadata": {
  "application/vnd.databricks.v1+notebook": {
   "computePreferences": null,
   "dashboards": [],
   "environmentMetadata": {
    "base_environment": "",
    "environment_version": "2"
   },
   "inputWidgetPreferences": {
    "autoRunOnWidgetChange": "no-auto-run"
   },
   "language": "python",
   "notebookMetadata": {
    "mostRecentlyExecutedCommandWithImplicitDF": {
     "commandId": 5442883433813357,
     "dataframes": [
      "_sqldf"
     ]
    },
    "pythonIndentUnit": 2,
    "widgetLayout": [
     {
      "breakBefore": false,
      "name": "secret_scope",
      "width": 266
     },
     {
      "breakBefore": false,
      "name": "target_rate",
      "width": 172
     },
     {
      "breakBefore": false,
      "name": "time_unit",
      "width": 172
     },
     {
      "breakBefore": false,
      "name": "topic_name",
      "width": 172
     },
     {
      "breakBefore": false,
      "name": "starting_from_time",
      "width": 172
     }
    ]
   },
   "notebookName": "Kafka CDC Simulation - Kafka Monitoring",
   "widgets": {
    "secret_scope": {
     "currentValue": "randy_pitcher_workspace_kafka_cdc",
     "nuid": "688dd032-c39c-4cad-9be7-d95d8f8b89b1",
     "typedWidgetInfo": {
      "autoCreated": false,
      "defaultValue": "randy_pitcher_workspace_kafka_cdc",
      "label": "Secret Scope",
      "name": "secret_scope",
      "options": {
       "validationRegex": null,
       "widgetDisplayType": "Text"
      },
      "parameterDataType": "String"
     },
     "widgetInfo": {
      "defaultValue": "randy_pitcher_workspace_kafka_cdc",
      "label": "Secret Scope",
      "name": "secret_scope",
      "options": {
       "autoCreated": false,
       "validationRegex": null,
       "widgetType": "text"
      },
      "widgetType": "text"
     }
    },
    "starting_from_time": {
     "currentValue": "2025-08-04 15:00:00",
     "nuid": "f982377c-24d9-4bbd-b0a9-a76c56f7441d",
     "typedWidgetInfo": {
      "autoCreated": false,
      "defaultValue": "2025-08-04 15:00:00",
      "label": "Starting From Time",
      "name": "starting_from_time",
      "options": {
       "validationRegex": null,
       "widgetDisplayType": "Text"
      },
      "parameterDataType": "String"
     },
     "widgetInfo": {
      "defaultValue": "2025-08-04 15:00:00",
      "label": "Starting From Time",
      "name": "starting_from_time",
      "options": {
       "autoCreated": false,
       "validationRegex": null,
       "widgetType": "text"
      },
      "widgetType": "text"
     }
    },
    "target_rate": {
     "currentValue": "231",
     "nuid": "0276ead4-ac89-4bff-97eb-9a4c99fb0d0a",
     "typedWidgetInfo": {
      "autoCreated": false,
      "defaultValue": "231",
      "label": "Target Generation Rate per Second",
      "name": "target_rate",
      "options": {
       "validationRegex": null,
       "widgetDisplayType": "Text"
      },
      "parameterDataType": "String"
     },
     "widgetInfo": {
      "defaultValue": "231",
      "label": "Target Generation Rate per Second",
      "name": "target_rate",
      "options": {
       "autoCreated": false,
       "validationRegex": null,
       "widgetType": "text"
      },
      "widgetType": "text"
     }
    },
    "time_unit": {
     "currentValue": "hour",
     "nuid": "23b70b78-2db0-4c29-9416-b9b1211ded0b",
     "typedWidgetInfo": {
      "autoCreated": false,
      "defaultValue": "hour",
      "label": "Time Unit",
      "name": "time_unit",
      "options": {
       "choices": [
        "second",
        "minute",
        "hour",
        "day",
        "week"
       ],
       "fixedDomain": true,
       "multiselect": false,
       "widgetDisplayType": "Dropdown"
      },
      "parameterDataType": "String"
     },
     "widgetInfo": {
      "defaultValue": "hour",
      "label": "Time Unit",
      "name": "time_unit",
      "options": {
       "autoCreated": false,
       "choices": [
        "second",
        "minute",
        "hour",
        "day",
        "week"
       ],
       "widgetType": "dropdown"
      },
      "widgetType": "dropdown"
     }
    },
    "topic_name": {
     "currentValue": "dev_sturdy_chair",
     "nuid": "4f8d6a18-5f60-4f7a-9cc7-f51cfda217d2",
     "typedWidgetInfo": {
      "autoCreated": false,
      "defaultValue": "dev",
      "label": "Topic Name",
      "name": "topic_name",
      "options": {
       "validationRegex": null,
       "widgetDisplayType": "Text"
      },
      "parameterDataType": "String"
     },
     "widgetInfo": {
      "defaultValue": "dev",
      "label": "Topic Name",
      "name": "topic_name",
      "options": {
       "autoCreated": false,
       "validationRegex": null,
       "widgetType": "text"
      },
      "widgetType": "text"
     }
    }
   }
  },
  "language_info": {
   "name": "python"
  }
 },
 "nbformat": 4,
 "nbformat_minor": 0
}
